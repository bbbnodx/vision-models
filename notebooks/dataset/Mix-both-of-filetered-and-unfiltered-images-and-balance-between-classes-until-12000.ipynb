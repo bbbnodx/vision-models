{
 "cells": [
  {
   "cell_type": "code",
   "execution_count": 1,
   "metadata": {},
   "outputs": [],
   "source": [
    "from pathlib import Path\n",
    "import shutil\n",
    "import random\n",
    "import itertools\n",
    "from tqdm.notebook import tqdm"
   ]
  },
  {
   "cell_type": "code",
   "execution_count": 2,
   "metadata": {},
   "outputs": [],
   "source": [
    "# passed_dir = Path(r'D:\\data\\SJJ\\SingleOCR\\for_crowd_sourcing\\labeled_cut_images\\passed')\n",
    "passed_root = Path(r'D:\\data\\SJJ\\SingleOCR\\for_crowd_sourcing\\all_labeled_cut_images')\n",
    "groups = [str(i).zfill(2) for i in range(10)]  # [00..09]\n",
    "passed_dirs = [passed_root / group / 'passed' for group in groups]\n",
    "filtered_dir = Path(r'D:/data/SJJ/SingleOCR/from_crowd_sourcing/210819')\n",
    "dst_dir = Path(r'D:\\data\\SJJ\\SingleOCR\\mixed_passed11000_filtered1000')\n",
    "assert all(passed_dir.is_dir() for passed_dir in passed_dirs)\n",
    "assert filtered_dir.is_dir()\n",
    "assert dst_dir.is_dir()"
   ]
  },
  {
   "cell_type": "code",
   "execution_count": 3,
   "metadata": {},
   "outputs": [],
   "source": [
    "NB_CLASS_IMAGES = 12000\n",
    "MAX_FILTERED_IMAGES = 1000\n",
    "RANDOM_SEED = 10"
   ]
  },
  {
   "cell_type": "code",
   "execution_count": 4,
   "metadata": {},
   "outputs": [],
   "source": [
    "def fetch_file_paths(src_dir: Path, max_samples: int, ext: str = 'jpg', seed=RANDOM_SEED) -> list:\n",
    "    \"\"\"\n",
    "    画像ディレクトリから指定の拡張子の画像パスをmax_samples数だけサンプルしてリストとして返す\n",
    "    画像数がmax_samples以下の場合は全画像パスを返す\n",
    "    \"\"\"\n",
    "    assert isinstance(ext, str) and len(ext) > 0\n",
    "    # 拡張子のドットの有無を吸収\n",
    "    if ext[0] == '.':\n",
    "        ext = ext[1:]\n",
    "    # src_dirがディレクトリなら画像ファイルパスを取得、リストなら全ディレクトリから画像ファイルパスを取得\n",
    "    if isinstance(src_dir, Path):\n",
    "        file_path_list = list(src_dir.glob('*.' + ext))\n",
    "    elif isinstance(src_dir, list) and all(isinstance(d, Path) for d in src_dir):\n",
    "        file_path_list = [path for path in itertools.chain(*(d.glob('*.' + ext) for d in src_dir))]\n",
    "    else:\n",
    "        raise ValueError(f'`src_dir` should be Path or [Path] object, but `{type(src_dir)}`.')\n",
    "        \n",
    "    if max_samples >= len(file_path_list):\n",
    "        return file_path_list\n",
    "    random.seed(seed)\n",
    "    samples = random.sample(file_path_list, max_samples)\n",
    "    return sorted(samples)"
   ]
  },
  {
   "cell_type": "code",
   "execution_count": 8,
   "metadata": {},
   "outputs": [],
   "source": [
    "nb_labels = sum(1 for _ in filtered_dir.iterdir())\n",
    "\n",
    "for f_label_dir in tqdm(filtered_dir.iterdir(), total=nb_labels, desc='label directory'):\n",
    "    label = f_label_dir.name\n",
    "    # p_label_dir = passed_dir / label\n",
    "    # assert p_label_dir.is_dir()\n",
    "    p_label_dirs = [d / label for d in passed_dirs]\n",
    "    assert all(d.is_dir() for d in p_label_dirs)\n",
    "    # 画像パスを合計がNB_CLASS_IMAGESになるようにサンプルする\n",
    "    assert MAX_FILTERED_IMAGES <= NB_CLASS_IMAGES\n",
    "    f_paths = fetch_file_paths(f_label_dir, max_samples=MAX_FILTERED_IMAGES)\n",
    "    max_p_images = NB_CLASS_IMAGES - len(f_paths)\n",
    "    p_paths = fetch_file_paths(p_label_dirs, max_samples=max_p_images)\n",
    "    \n",
    "    # サンプルした画像をdst_dirのラベルディレクトリにコピーする\n",
    "    dst_label_dir = dst_dir / label\n",
    "    dst_label_dir.mkdir(exist_ok=True)\n",
    "    nb_images = len(f_paths) + len(p_paths)\n",
    "    assert nb_images <= NB_CLASS_IMAGES\n",
    "    for img_path in tqdm(itertools.chain(f_paths, p_paths), total=nb_images, desc='copy images', leave=False):\n",
    "        shutil.copy(img_path, dst_label_dir)"
   ]
  },
  {
   "cell_type": "code",
   "execution_count": 6,
   "metadata": {},
   "outputs": [
    {
     "name": "stdout",
     "output_type": "stream",
     "text": [
      "label: 00\timages: 12000\n",
      "label: 01\timages: 12000\n",
      "label: 02\timages: 12000\n",
      "label: 03\timages: 12000\n",
      "label: 04\timages: 12000\n",
      "label: 05\timages: 12000\n",
      "label: 06\timages: 12000\n",
      "label: 07\timages: 12000\n",
      "label: 08\timages: 12000\n",
      "label: 09\timages: 12000\n",
      "label: 10\timages: 12000\n",
      "label: 11\timages: 12000\n",
      "label: 12\timages: 507\n",
      "label: 13\timages: 12000\n",
      "label: 14\timages: 12000\n",
      "label: 15\timages: 12000\n",
      "label: 16\timages: 2554\n"
     ]
    }
   ],
   "source": [
    "# 画像数のチェック\n",
    "for label_dir in dst_dir.iterdir():\n",
    "    print(f'label: {label_dir.name}\\timages: {sum(1 for _ in label_dir.glob(\"*.jpg\"))}')"
   ]
  },
  {
   "cell_type": "code",
   "execution_count": null,
   "metadata": {},
   "outputs": [],
   "source": []
  }
 ],
 "metadata": {
  "kernelspec": {
   "display_name": "Python 3",
   "language": "python",
   "name": "python3"
  },
  "language_info": {
   "codemirror_mode": {
    "name": "ipython",
    "version": 3
   },
   "file_extension": ".py",
   "mimetype": "text/x-python",
   "name": "python",
   "nbconvert_exporter": "python",
   "pygments_lexer": "ipython3",
   "version": "3.8.5"
  }
 },
 "nbformat": 4,
 "nbformat_minor": 4
}
