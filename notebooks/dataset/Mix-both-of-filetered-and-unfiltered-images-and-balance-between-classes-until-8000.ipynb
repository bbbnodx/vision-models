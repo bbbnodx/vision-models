{
 "cells": [
  {
   "cell_type": "code",
   "execution_count": 1,
   "metadata": {},
   "outputs": [],
   "source": [
    "from pathlib import Path\n",
    "import shutil\n",
    "import random\n",
    "import itertools"
   ]
  },
  {
   "cell_type": "code",
   "execution_count": 2,
   "metadata": {},
   "outputs": [],
   "source": [
    "passed_dir = Path(r'D:\\data\\SJJ\\SingleOCR\\for_crowd_sourcing\\labeled_cut_images\\passed')\n",
    "filtered_dir = Path(r'D:/data/SJJ/SingleOCR/from_crowd_sourcing/210819')\n",
    "dst_dir = Path(r'D:\\data\\SJJ\\SingleOCR\\mixed_passed7000_filtered1000')\n",
    "assert passed_dir.is_dir()\n",
    "assert filtered_dir.is_dir()\n",
    "assert dst_dir.is_dir()"
   ]
  },
  {
   "cell_type": "code",
   "execution_count": 3,
   "metadata": {},
   "outputs": [],
   "source": [
    "NB_CLASS_IMAGES = 8000\n",
    "MAX_FILTERED_IMAGES = 1000\n",
    "RANDOM_SEED = 10"
   ]
  },
  {
   "cell_type": "code",
   "execution_count": 4,
   "metadata": {},
   "outputs": [],
   "source": [
    "def display_each_labeled_images(target_dir: Path):\n",
    "    assert target_dir.is_dir()\n",
    "    for label_dir in target_dir.iterdir():\n",
    "        nb_images = sum(1 for _ in label_dir.glob('*.jpg'))\n",
    "        print(f'label {label_dir.name} has {nb_images} images.')"
   ]
  },
  {
   "cell_type": "code",
   "execution_count": 5,
   "metadata": {},
   "outputs": [
    {
     "name": "stdout",
     "output_type": "stream",
     "text": [
      "label 00 has 38222 images.\n",
      "label 01 has 56339 images.\n",
      "label 02 has 32402 images.\n",
      "label 03 has 20501 images.\n",
      "label 04 has 15015 images.\n",
      "label 05 has 17094 images.\n",
      "label 06 has 7643 images.\n",
      "label 07 has 13745 images.\n",
      "label 08 has 7951 images.\n",
      "label 09 has 4793 images.\n",
      "label 10 has 301075 images.\n",
      "label 11 has 17270 images.\n",
      "label 12 has 8 images.\n",
      "label 13 has 3094 images.\n",
      "label 14 has 4326 images.\n",
      "label 15 has 12172 images.\n",
      "label 16 has 192 images.\n",
      "label 90 has 0 images.\n"
     ]
    }
   ],
   "source": [
    "display_each_labeled_images(passed_dir)"
   ]
  },
  {
   "cell_type": "code",
   "execution_count": 6,
   "metadata": {},
   "outputs": [
    {
     "name": "stdout",
     "output_type": "stream",
     "text": [
      "label 00 has 1856 images.\n",
      "label 01 has 6790 images.\n",
      "label 02 has 1863 images.\n",
      "label 03 has 934 images.\n",
      "label 04 has 953 images.\n",
      "label 05 has 834 images.\n",
      "label 06 has 266 images.\n",
      "label 07 has 1862 images.\n",
      "label 08 has 406 images.\n",
      "label 09 has 137 images.\n",
      "label 10 has 44249 images.\n",
      "label 11 has 1796 images.\n",
      "label 12 has 439 images.\n",
      "label 13 has 229 images.\n",
      "label 14 has 7675 images.\n",
      "label 15 has 5838 images.\n",
      "label 16 has 197 images.\n"
     ]
    }
   ],
   "source": [
    "display_each_labeled_images(filtered_dir)"
   ]
  },
  {
   "cell_type": "code",
   "execution_count": 6,
   "metadata": {},
   "outputs": [],
   "source": [
    "def fetch_file_paths(src_dir: Path, max_samples: int, ext: str = 'jpg', seed=RANDOM_SEED) -> list:\n",
    "    \"\"\"\n",
    "    画像ディレクトリから指定の拡張子の画像パスをmax_samples数だけサンプルしてリストとして返す\n",
    "    画像数がmax_samples以下の場合は全画像パスを返す\n",
    "    \"\"\"\n",
    "    assert isinstance(ext, str) and len(ext) > 0\n",
    "    # 拡張子のドットの有無を吸収\n",
    "    if ext[0] == '.':\n",
    "        ext = ext[1:]\n",
    "    file_path_list = list(src_dir.glob('*.' + ext))\n",
    "    if max_samples >= len(file_path_list):\n",
    "        return file_path_list\n",
    "    random.seed(seed)\n",
    "    samples = random.sample(file_path_list, max_samples)\n",
    "    return sorted(samples)"
   ]
  },
  {
   "cell_type": "code",
   "execution_count": 7,
   "metadata": {},
   "outputs": [],
   "source": [
    "for f_label_dir in filtered_dir.iterdir():\n",
    "    label = f_label_dir.name\n",
    "    p_label_dir = passed_dir / label\n",
    "    assert p_label_dir.is_dir()\n",
    "    # 画像パスを合計がNB_CLASS_IMAGESになるようにサンプルする\n",
    "    assert MAX_FILTERED_IMAGES <= NB_CLASS_IMAGES\n",
    "    f_paths = fetch_file_paths(f_label_dir, max_samples=MAX_FILTERED_IMAGES)\n",
    "    max_p_images = NB_CLASS_IMAGES - len(f_paths)\n",
    "    p_paths = fetch_file_paths(p_label_dir, max_samples=max_p_images)\n",
    "    \n",
    "    # サンプルした画像をdst_dirのラベルディレクトリにコピーする\n",
    "    dst_label_dir = dst_dir / label\n",
    "    dst_label_dir.mkdir(exist_ok=True)\n",
    "    nb_images = len(f_paths) + len(p_paths)\n",
    "    assert nb_images <= NB_CLASS_IMAGES\n",
    "    for img_path in itertools.chain(f_paths, p_paths):\n",
    "        shutil.copy(img_path, dst_label_dir)"
   ]
  },
  {
   "cell_type": "code",
   "execution_count": 8,
   "metadata": {},
   "outputs": [
    {
     "name": "stdout",
     "output_type": "stream",
     "text": [
      "label: 00\timages: 8000\n",
      "label: 01\timages: 8000\n",
      "label: 02\timages: 8000\n",
      "label: 03\timages: 8000\n",
      "label: 04\timages: 8000\n",
      "label: 05\timages: 8000\n",
      "label: 06\timages: 7909\n",
      "label: 07\timages: 8000\n",
      "label: 08\timages: 8000\n",
      "label: 09\timages: 4930\n",
      "label: 10\timages: 8000\n",
      "label: 11\timages: 8000\n",
      "label: 12\timages: 447\n",
      "label: 13\timages: 3323\n",
      "label: 14\timages: 5326\n",
      "label: 15\timages: 8000\n",
      "label: 16\timages: 389\n"
     ]
    }
   ],
   "source": [
    "# 画像数のチェック\n",
    "for label_dir in dst_dir.iterdir():\n",
    "    print(f'label: {label_dir.name}\\timages: {sum(1 for _ in label_dir.glob(\"*.jpg\"))}')"
   ]
  },
  {
   "cell_type": "code",
   "execution_count": null,
   "metadata": {},
   "outputs": [],
   "source": []
  }
 ],
 "metadata": {
  "kernelspec": {
   "display_name": "Python 3",
   "language": "python",
   "name": "python3"
  },
  "language_info": {
   "codemirror_mode": {
    "name": "ipython",
    "version": 3
   },
   "file_extension": ".py",
   "mimetype": "text/x-python",
   "name": "python",
   "nbconvert_exporter": "python",
   "pygments_lexer": "ipython3",
   "version": "3.8.5"
  }
 },
 "nbformat": 4,
 "nbformat_minor": 4
}
