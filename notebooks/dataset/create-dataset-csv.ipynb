{
 "cells": [
  {
   "cell_type": "code",
   "execution_count": 1,
   "metadata": {},
   "outputs": [],
   "source": [
    "import pandas as pd\n",
    "from sklearn.model_selection import train_test_split\n",
    "\n",
    "from pathlib import Path"
   ]
  },
  {
   "cell_type": "code",
   "execution_count": 2,
   "metadata": {},
   "outputs": [],
   "source": [
    "data_root = Path(r'D:\\data\\SJJ\\SingleOCR\\mixed_passed11000_filtered1000')\n",
    "assert data_root.is_dir()\n",
    "\n",
    "labels = [str(i).zfill(2) for i in range(17)]\n",
    "assert all((data_root / label).is_dir() for label in labels)"
   ]
  },
  {
   "cell_type": "code",
   "execution_count": 3,
   "metadata": {},
   "outputs": [],
   "source": [
    "dataset = {'path': [], 'label': []}\n",
    "\n",
    "for label in labels:\n",
    "    label_dir = data_root / label\n",
    "    assert label_dir.is_dir()\n",
    "    for img_path in label_dir.glob('*.jpg'):\n",
    "        rel_path = f'./{label}/{img_path.name}'\n",
    "        dataset['path'].append(rel_path)\n",
    "        dataset['label'].append(int(label))"
   ]
  },
  {
   "cell_type": "code",
   "execution_count": 4,
   "metadata": {},
   "outputs": [
    {
     "data": {
      "text/html": [
       "<div>\n",
       "<style scoped>\n",
       "    .dataframe tbody tr th:only-of-type {\n",
       "        vertical-align: middle;\n",
       "    }\n",
       "\n",
       "    .dataframe tbody tr th {\n",
       "        vertical-align: top;\n",
       "    }\n",
       "\n",
       "    .dataframe thead th {\n",
       "        text-align: right;\n",
       "    }\n",
       "</style>\n",
       "<table border=\"1\" class=\"dataframe\">\n",
       "  <thead>\n",
       "    <tr style=\"text-align: right;\">\n",
       "      <th></th>\n",
       "      <th>path</th>\n",
       "      <th>label</th>\n",
       "    </tr>\n",
       "  </thead>\n",
       "  <tbody>\n",
       "    <tr>\n",
       "      <th>0</th>\n",
       "      <td>./00/120312_400055_1201.jpg</td>\n",
       "      <td>0</td>\n",
       "    </tr>\n",
       "    <tr>\n",
       "      <th>1</th>\n",
       "      <td>./00/180818_310027_0602.jpg</td>\n",
       "      <td>0</td>\n",
       "    </tr>\n",
       "    <tr>\n",
       "      <th>2</th>\n",
       "      <td>./00/180818_310041_1201.jpg</td>\n",
       "      <td>0</td>\n",
       "    </tr>\n",
       "    <tr>\n",
       "      <th>3</th>\n",
       "      <td>./00/180818_310046_4501.jpg</td>\n",
       "      <td>0</td>\n",
       "    </tr>\n",
       "    <tr>\n",
       "      <th>4</th>\n",
       "      <td>./00/180818_310048_1101.jpg</td>\n",
       "      <td>0</td>\n",
       "    </tr>\n",
       "  </tbody>\n",
       "</table>\n",
       "</div>"
      ],
      "text/plain": [
       "                          path  label\n",
       "0  ./00/120312_400055_1201.jpg      0\n",
       "1  ./00/180818_310027_0602.jpg      0\n",
       "2  ./00/180818_310041_1201.jpg      0\n",
       "3  ./00/180818_310046_4501.jpg      0\n",
       "4  ./00/180818_310048_1101.jpg      0"
      ]
     },
     "execution_count": 4,
     "metadata": {},
     "output_type": "execute_result"
    }
   ],
   "source": [
    "dataset_df = pd.DataFrame(dataset)\n",
    "dataset_df.head()"
   ]
  },
  {
   "cell_type": "code",
   "execution_count": 5,
   "metadata": {},
   "outputs": [
    {
     "data": {
      "text/html": [
       "<div>\n",
       "<style scoped>\n",
       "    .dataframe tbody tr th:only-of-type {\n",
       "        vertical-align: middle;\n",
       "    }\n",
       "\n",
       "    .dataframe tbody tr th {\n",
       "        vertical-align: top;\n",
       "    }\n",
       "\n",
       "    .dataframe thead th {\n",
       "        text-align: right;\n",
       "    }\n",
       "</style>\n",
       "<table border=\"1\" class=\"dataframe\">\n",
       "  <thead>\n",
       "    <tr style=\"text-align: right;\">\n",
       "      <th></th>\n",
       "      <th>path</th>\n",
       "      <th>label</th>\n",
       "    </tr>\n",
       "  </thead>\n",
       "  <tbody>\n",
       "    <tr>\n",
       "      <th>183056</th>\n",
       "      <td>./16/210409_300020_2902.jpg</td>\n",
       "      <td>16</td>\n",
       "    </tr>\n",
       "    <tr>\n",
       "      <th>183057</th>\n",
       "      <td>./16/210409_300021_4501.jpg</td>\n",
       "      <td>16</td>\n",
       "    </tr>\n",
       "    <tr>\n",
       "      <th>183058</th>\n",
       "      <td>./16/210409_300021_4502.jpg</td>\n",
       "      <td>16</td>\n",
       "    </tr>\n",
       "    <tr>\n",
       "      <th>183059</th>\n",
       "      <td>./16/210409_300112_3002.jpg</td>\n",
       "      <td>16</td>\n",
       "    </tr>\n",
       "    <tr>\n",
       "      <th>183060</th>\n",
       "      <td>./16/210409_300137_2506.jpg</td>\n",
       "      <td>16</td>\n",
       "    </tr>\n",
       "  </tbody>\n",
       "</table>\n",
       "</div>"
      ],
      "text/plain": [
       "                               path  label\n",
       "183056  ./16/210409_300020_2902.jpg     16\n",
       "183057  ./16/210409_300021_4501.jpg     16\n",
       "183058  ./16/210409_300021_4502.jpg     16\n",
       "183059  ./16/210409_300112_3002.jpg     16\n",
       "183060  ./16/210409_300137_2506.jpg     16"
      ]
     },
     "execution_count": 5,
     "metadata": {},
     "output_type": "execute_result"
    }
   ],
   "source": [
    "dataset_df.tail()"
   ]
  },
  {
   "cell_type": "code",
   "execution_count": 6,
   "metadata": {},
   "outputs": [
    {
     "data": {
      "text/plain": [
       "(183061, 2)"
      ]
     },
     "execution_count": 6,
     "metadata": {},
     "output_type": "execute_result"
    }
   ],
   "source": [
    "dataset_df.shape"
   ]
  },
  {
   "cell_type": "code",
   "execution_count": 7,
   "metadata": {},
   "outputs": [
    {
     "name": "stdout",
     "output_type": "stream",
     "text": [
      "0 12000\n",
      "1 12000\n",
      "2 12000\n",
      "3 12000\n",
      "4 12000\n",
      "5 12000\n",
      "6 12000\n",
      "7 12000\n",
      "8 12000\n",
      "9 12000\n",
      "10 12000\n",
      "11 12000\n",
      "12 507\n",
      "13 12000\n",
      "14 12000\n",
      "15 12000\n",
      "16 2554\n"
     ]
    }
   ],
   "source": [
    "for label, label_df in dataset_df.groupby('label'):\n",
    "    print(label, len(label_df))"
   ]
  },
  {
   "cell_type": "markdown",
   "metadata": {},
   "source": [
    "## ラベル12, 13, 16が少ないので同じ画像を繰り返してデータ数を調整する"
   ]
  },
  {
   "cell_type": "code",
   "execution_count": 8,
   "metadata": {},
   "outputs": [],
   "source": [
    "# label9_df = dataset_df[dataset_df['label'] == 9]\n",
    "label12_df = dataset_df[dataset_df['label'] == 12]\n",
    "# label13_df = dataset_df[dataset_df['label'] == 13]\n",
    "# label14_df = dataset_df[dataset_df['label'] == 14]\n",
    "label16_df = dataset_df[dataset_df['label'] == 16]"
   ]
  },
  {
   "cell_type": "code",
   "execution_count": 9,
   "metadata": {},
   "outputs": [
    {
     "data": {
      "text/plain": [
       "{12: 24, 16: 5}"
      ]
     },
     "execution_count": 9,
     "metadata": {},
     "output_type": "execute_result"
    }
   ],
   "source": [
    "nb_class_data = 12000\n",
    "ratios = {l: round(nb_class_data / len(dataset_df[dataset_df['label'] == l])) for l in [12,16]}\n",
    "ratios"
   ]
  },
  {
   "cell_type": "code",
   "execution_count": 10,
   "metadata": {},
   "outputs": [
    {
     "data": {
      "text/plain": [
       "{9: 3070, 14: 2674}"
      ]
     },
     "execution_count": 10,
     "metadata": {},
     "output_type": "execute_result"
    }
   ],
   "source": [
    "# samples = {l: nb_class_data - len(dataset_df[dataset_df['label'] == l]) for l in [9, 14]}\n",
    "# samples"
   ]
  },
  {
   "cell_type": "code",
   "execution_count": 10,
   "metadata": {},
   "outputs": [],
   "source": [
    "augmented_12_df = pd.concat([label12_df] * ratios[12], ignore_index=True)"
   ]
  },
  {
   "cell_type": "code",
   "execution_count": 11,
   "metadata": {},
   "outputs": [
    {
     "data": {
      "text/plain": [
       "(12168, 2)"
      ]
     },
     "execution_count": 11,
     "metadata": {},
     "output_type": "execute_result"
    }
   ],
   "source": [
    "augmented_12_df.shape"
   ]
  },
  {
   "cell_type": "code",
   "execution_count": 12,
   "metadata": {},
   "outputs": [
    {
     "data": {
      "text/plain": [
       "(12770, 2)"
      ]
     },
     "execution_count": 12,
     "metadata": {},
     "output_type": "execute_result"
    }
   ],
   "source": [
    "augmented_16_df = pd.concat([label16_df] * ratios[16], ignore_index=True)\n",
    "augmented_16_df.shape"
   ]
  },
  {
   "cell_type": "code",
   "execution_count": null,
   "metadata": {},
   "outputs": [],
   "source": [
    "# augmented_13_df = pd.concat([label13_df] * ratios[13], ignore_index=True)\n",
    "# augmented_13_df.shape"
   ]
  },
  {
   "cell_type": "code",
   "execution_count": null,
   "metadata": {},
   "outputs": [],
   "source": []
  },
  {
   "cell_type": "code",
   "execution_count": 18,
   "metadata": {},
   "outputs": [
    {
     "data": {
      "text/plain": [
       "(1354, 2)"
      ]
     },
     "execution_count": 18,
     "metadata": {},
     "output_type": "execute_result"
    }
   ],
   "source": [
    "sample13_df = label13_df.sample(n=(nb_class_data - len(augmented_13_df)), random_state=10)\n",
    "sample13_df.shape"
   ]
  },
  {
   "cell_type": "code",
   "execution_count": 19,
   "metadata": {},
   "outputs": [
    {
     "data": {
      "text/plain": [
       "(8000, 2)"
      ]
     },
     "execution_count": 19,
     "metadata": {},
     "output_type": "execute_result"
    }
   ],
   "source": [
    "augmented_13_df = pd.concat([label13_df, label13_df, sample13_df], ignore_index=True)\n",
    "augmented_13_df.shape"
   ]
  },
  {
   "cell_type": "code",
   "execution_count": 20,
   "metadata": {},
   "outputs": [
    {
     "data": {
      "text/plain": [
       "(3070, 2)"
      ]
     },
     "execution_count": 20,
     "metadata": {},
     "output_type": "execute_result"
    }
   ],
   "source": [
    "sample9_df = label9_df.sample(n=samples[9], random_state=10)\n",
    "sample9_df.shape"
   ]
  },
  {
   "cell_type": "code",
   "execution_count": 21,
   "metadata": {},
   "outputs": [
    {
     "data": {
      "text/plain": [
       "(8000, 2)"
      ]
     },
     "execution_count": 21,
     "metadata": {},
     "output_type": "execute_result"
    }
   ],
   "source": [
    "augmented_9_df = pd.concat([label9_df, sample9_df], ignore_index=True)\n",
    "augmented_9_df.shape"
   ]
  },
  {
   "cell_type": "code",
   "execution_count": 22,
   "metadata": {},
   "outputs": [
    {
     "data": {
      "text/plain": [
       "(2674, 2)"
      ]
     },
     "execution_count": 22,
     "metadata": {},
     "output_type": "execute_result"
    }
   ],
   "source": [
    "sample14_df = label14_df.sample(n=samples[14], random_state=10)\n",
    "sample14_df.shape"
   ]
  },
  {
   "cell_type": "code",
   "execution_count": 23,
   "metadata": {},
   "outputs": [
    {
     "data": {
      "text/plain": [
       "(8000, 2)"
      ]
     },
     "execution_count": 23,
     "metadata": {},
     "output_type": "execute_result"
    }
   ],
   "source": [
    "augmented_14_df = pd.concat([label14_df, sample14_df], ignore_index=True)\n",
    "augmented_14_df.shape"
   ]
  },
  {
   "cell_type": "code",
   "execution_count": null,
   "metadata": {},
   "outputs": [],
   "source": []
  },
  {
   "cell_type": "code",
   "execution_count": 14,
   "metadata": {},
   "outputs": [],
   "source": [
    "augmented_df = pd.concat([dataset_df[~dataset_df['label'].isin([12, 16])],\n",
    "#                           augmented_9_df,\n",
    "                          augmented_12_df,\n",
    "#                           augmented_13_df,\n",
    "#                           augmented_14_df,\n",
    "                          augmented_16_df], ignore_index=True)"
   ]
  },
  {
   "cell_type": "code",
   "execution_count": 15,
   "metadata": {},
   "outputs": [
    {
     "name": "stdout",
     "output_type": "stream",
     "text": [
      "0 12000\n",
      "1 12000\n",
      "2 12000\n",
      "3 12000\n",
      "4 12000\n",
      "5 12000\n",
      "6 12000\n",
      "7 12000\n",
      "8 12000\n",
      "9 12000\n",
      "10 12000\n",
      "11 12000\n",
      "12 12168\n",
      "13 12000\n",
      "14 12000\n",
      "15 12000\n",
      "16 12770\n"
     ]
    }
   ],
   "source": [
    "for label, label_df in augmented_df.groupby('label'):\n",
    "    print(label, len(label_df))"
   ]
  },
  {
   "cell_type": "code",
   "execution_count": 16,
   "metadata": {},
   "outputs": [],
   "source": [
    "augmented_df = augmented_df.rename(columns={'path': 'x', 'label': 'y'})"
   ]
  },
  {
   "cell_type": "code",
   "execution_count": 17,
   "metadata": {},
   "outputs": [],
   "source": [
    "csv_path = data_root / 'all_ai_ocr_numeric_v7_0_0.csv'\n",
    "augmented_df.to_csv(csv_path, index=False)"
   ]
  },
  {
   "cell_type": "markdown",
   "metadata": {},
   "source": [
    "## train test split"
   ]
  },
  {
   "cell_type": "code",
   "execution_count": 18,
   "metadata": {},
   "outputs": [],
   "source": [
    "test_size = 0.2"
   ]
  },
  {
   "cell_type": "code",
   "execution_count": 19,
   "metadata": {
    "scrolled": true
   },
   "outputs": [],
   "source": [
    "version = 'v7_0_0'\n",
    "dataset_name = 'ai_ocr_numeric_' + version\n",
    "\n",
    "csv_path = data_root / f'all_{dataset_name}.csv'\n",
    "assert csv_path.is_file()\n",
    "augmented_df = pd.read_csv(csv_path)\n",
    "\n",
    "train_path = data_root / f'train_{dataset_name}.csv'\n",
    "val_path = data_root / f'val_{dataset_name}.csv'"
   ]
  },
  {
   "cell_type": "code",
   "execution_count": 20,
   "metadata": {},
   "outputs": [],
   "source": [
    "train_df, test_df = train_test_split(augmented_df, test_size=test_size, stratify=augmented_df['y'])"
   ]
  },
  {
   "cell_type": "code",
   "execution_count": 21,
   "metadata": {},
   "outputs": [
    {
     "data": {
      "text/plain": [
       "16    10216\n",
       "12     9734\n",
       "7      9600\n",
       "1      9600\n",
       "2      9600\n",
       "3      9600\n",
       "4      9600\n",
       "5      9600\n",
       "6      9600\n",
       "8      9600\n",
       "15     9600\n",
       "9      9600\n",
       "10     9600\n",
       "11     9600\n",
       "13     9600\n",
       "14     9600\n",
       "0      9600\n",
       "Name: y, dtype: int64"
      ]
     },
     "execution_count": 21,
     "metadata": {},
     "output_type": "execute_result"
    }
   ],
   "source": [
    "train_df['y'].value_counts()"
   ]
  },
  {
   "cell_type": "code",
   "execution_count": 22,
   "metadata": {},
   "outputs": [
    {
     "data": {
      "text/plain": [
       "16    2554\n",
       "12    2434\n",
       "7     2400\n",
       "1     2400\n",
       "2     2400\n",
       "3     2400\n",
       "4     2400\n",
       "5     2400\n",
       "6     2400\n",
       "8     2400\n",
       "15    2400\n",
       "9     2400\n",
       "10    2400\n",
       "11    2400\n",
       "13    2400\n",
       "14    2400\n",
       "0     2400\n",
       "Name: y, dtype: int64"
      ]
     },
     "execution_count": 22,
     "metadata": {},
     "output_type": "execute_result"
    }
   ],
   "source": [
    "test_df['y'].value_counts()"
   ]
  },
  {
   "cell_type": "code",
   "execution_count": 23,
   "metadata": {},
   "outputs": [],
   "source": [
    "train_df.to_csv(train_path, index=False)\n",
    "test_df.to_csv(val_path, index=False)"
   ]
  },
  {
   "cell_type": "code",
   "execution_count": null,
   "metadata": {},
   "outputs": [],
   "source": []
  }
 ],
 "metadata": {
  "kernelspec": {
   "display_name": "Python 3",
   "language": "python",
   "name": "python3"
  },
  "language_info": {
   "codemirror_mode": {
    "name": "ipython",
    "version": 3
   },
   "file_extension": ".py",
   "mimetype": "text/x-python",
   "name": "python",
   "nbconvert_exporter": "python",
   "pygments_lexer": "ipython3",
   "version": "3.8.5"
  }
 },
 "nbformat": 4,
 "nbformat_minor": 4
}
