{
 "cells": [
  {
   "cell_type": "code",
   "execution_count": 8,
   "metadata": {},
   "outputs": [],
   "source": [
    "import numpy as np\n",
    "import pandas as pd\n",
    "from sklearn import model_selection\n",
    "\n",
    "from pathlib import Path"
   ]
  },
  {
   "cell_type": "code",
   "execution_count": 2,
   "metadata": {},
   "outputs": [],
   "source": [
    "data_dir = Path(r'C:\\Users\\02\\dev\\nnc\\dataset\\ai_ocr_numeric_v4_0_0')\n",
    "train_csv = data_dir / 'train_ai_ocr_numeric_v4_0_0.csv'\n",
    "assert train_csv.is_file()"
   ]
  },
  {
   "cell_type": "code",
   "execution_count": 3,
   "metadata": {},
   "outputs": [],
   "source": [
    "train_df = pd.read_csv(train_csv)"
   ]
  },
  {
   "cell_type": "markdown",
   "metadata": {},
   "source": [
    "## 訓練データセットを層化分割"
   ]
  },
  {
   "cell_type": "code",
   "execution_count": 7,
   "metadata": {},
   "outputs": [],
   "source": [
    "skf = StratifiedKFold(n_splits=4, shuffle=True, random_state=10)"
   ]
  },
  {
   "cell_type": "code",
   "execution_count": 16,
   "metadata": {},
   "outputs": [],
   "source": [
    "splited_dfs = [train_df.iloc[test_idx] for _, test_idx in skf.split(train_df['x'], train_df['y'])]"
   ]
  },
  {
   "cell_type": "markdown",
   "metadata": {},
   "source": [
    "### データの重複がないか確認"
   ]
  },
  {
   "cell_type": "code",
   "execution_count": 17,
   "metadata": {
    "scrolled": true
   },
   "outputs": [
    {
     "data": {
      "text/plain": [
       "[13456, 13456, 13456, 13456]"
      ]
     },
     "execution_count": 17,
     "metadata": {},
     "output_type": "execute_result"
    }
   ],
   "source": [
    "[len(df) for df in splited_dfs]"
   ]
  },
  {
   "cell_type": "code",
   "execution_count": 19,
   "metadata": {},
   "outputs": [],
   "source": [
    "indices = [set(test_idx) for _, test_idx in skf.split(train_df['x'], train_df['y'])]"
   ]
  },
  {
   "cell_type": "code",
   "execution_count": 22,
   "metadata": {},
   "outputs": [
    {
     "data": {
      "text/plain": [
       "[set(), set(), set(), set()]"
      ]
     },
     "execution_count": 22,
     "metadata": {},
     "output_type": "execute_result"
    }
   ],
   "source": [
    "[indices[i] & indices[(i+1)%len(indices)] for i in range(len(indices))]"
   ]
  },
  {
   "cell_type": "markdown",
   "metadata": {},
   "source": [
    "### 層化分割できているか確認"
   ]
  },
  {
   "cell_type": "code",
   "execution_count": 23,
   "metadata": {},
   "outputs": [
    {
     "data": {
      "text/plain": [
       "10    810\n",
       "16    803\n",
       "11    800\n",
       "1     798\n",
       "2     797\n",
       "4     795\n",
       "6     794\n",
       "13    794\n",
       "5     794\n",
       "7     794\n",
       "3     794\n",
       "9     789\n",
       "0     787\n",
       "8     786\n",
       "15    777\n",
       "14    776\n",
       "12    768\n",
       "Name: y, dtype: int64"
      ]
     },
     "metadata": {},
     "output_type": "display_data"
    },
    {
     "data": {
      "text/plain": [
       "10    810\n",
       "16    804\n",
       "11    800\n",
       "1     798\n",
       "2     797\n",
       "4     795\n",
       "6     794\n",
       "5     794\n",
       "7     794\n",
       "3     794\n",
       "13    793\n",
       "9     789\n",
       "0     787\n",
       "8     786\n",
       "15    777\n",
       "14    776\n",
       "12    768\n",
       "Name: y, dtype: int64"
      ]
     },
     "metadata": {},
     "output_type": "display_data"
    },
    {
     "data": {
      "text/plain": [
       "10    811\n",
       "16    803\n",
       "11    800\n",
       "1     798\n",
       "2     797\n",
       "7     795\n",
       "6     794\n",
       "4     794\n",
       "13    793\n",
       "5     793\n",
       "3     793\n",
       "9     789\n",
       "0     788\n",
       "8     787\n",
       "15    777\n",
       "14    776\n",
       "12    768\n",
       "Name: y, dtype: int64"
      ]
     },
     "metadata": {},
     "output_type": "display_data"
    },
    {
     "data": {
      "text/plain": [
       "10    810\n",
       "16    803\n",
       "11    800\n",
       "1     798\n",
       "2     798\n",
       "4     795\n",
       "7     795\n",
       "6     794\n",
       "13    794\n",
       "5     793\n",
       "3     793\n",
       "9     789\n",
       "0     788\n",
       "8     787\n",
       "15    776\n",
       "14    775\n",
       "12    768\n",
       "Name: y, dtype: int64"
      ]
     },
     "metadata": {},
     "output_type": "display_data"
    }
   ],
   "source": [
    "for df in splited_dfs:\n",
    "    display(df['y'].value_counts())"
   ]
  },
  {
   "cell_type": "code",
   "execution_count": 25,
   "metadata": {},
   "outputs": [],
   "source": [
    "for i, df in enumerate(splited_dfs):\n",
    "    path = data_dir / f'train_ai_ocr_numeric_v4_0_0_part{i+1}.csv'\n",
    "    df.to_csv(path, index=False, encoding='utf-8')"
   ]
  },
  {
   "cell_type": "code",
   "execution_count": null,
   "metadata": {},
   "outputs": [],
   "source": []
  }
 ],
 "metadata": {
  "kernelspec": {
   "display_name": "Python 3",
   "language": "python",
   "name": "python3"
  },
  "language_info": {
   "codemirror_mode": {
    "name": "ipython",
    "version": 3
   },
   "file_extension": ".py",
   "mimetype": "text/x-python",
   "name": "python",
   "nbconvert_exporter": "python",
   "pygments_lexer": "ipython3",
   "version": "3.8.5"
  }
 },
 "nbformat": 4,
 "nbformat_minor": 4
}
