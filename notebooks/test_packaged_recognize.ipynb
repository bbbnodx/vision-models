{
 "cells": [
  {
   "cell_type": "markdown",
   "metadata": {},
   "source": [
    "# パッケージで呼び出される関数をテストする"
   ]
  },
  {
   "cell_type": "code",
   "execution_count": 1,
   "metadata": {},
   "outputs": [
    {
     "name": "stdout",
     "output_type": "stream",
     "text": [
      "C:\\Users\\nozoe-tatsuya\\dev\\ensemble-ocr\n"
     ]
    }
   ],
   "source": [
    "%cd .."
   ]
  },
  {
   "cell_type": "code",
   "execution_count": 2,
   "metadata": {},
   "outputs": [],
   "source": [
    "from pathlib import Path\n",
    "\n",
    "import vision_models"
   ]
  },
  {
   "cell_type": "code",
   "execution_count": 3,
   "metadata": {},
   "outputs": [],
   "source": [
    "data_dir = Path(r'D:\\data\\SJJ\\sjj_all_190624\\validation\\labeled-cut-2-A')\n",
    "assert data_dir.is_dir()"
   ]
  },
  {
   "cell_type": "code",
   "execution_count": 4,
   "metadata": {},
   "outputs": [
    {
     "data": {
      "text/plain": [
       "[WindowsPath('D:/data/SJJ/sjj_all_190624/validation/labeled-cut-2-A/00/160004000008.jpg'),\n",
       " WindowsPath('D:/data/SJJ/sjj_all_190624/validation/labeled-cut-2-A/01/160004000002.jpg'),\n",
       " WindowsPath('D:/data/SJJ/sjj_all_190624/validation/labeled-cut-2-A/02/160004000017.jpg'),\n",
       " WindowsPath('D:/data/SJJ/sjj_all_190624/validation/labeled-cut-2-A/03/160004000010.jpg'),\n",
       " WindowsPath('D:/data/SJJ/sjj_all_190624/validation/labeled-cut-2-A/04/160004000006.jpg'),\n",
       " WindowsPath('D:/data/SJJ/sjj_all_190624/validation/labeled-cut-2-A/05/160004000036.jpg'),\n",
       " WindowsPath('D:/data/SJJ/sjj_all_190624/validation/labeled-cut-2-A/06/160004000024.jpg'),\n",
       " WindowsPath('D:/data/SJJ/sjj_all_190624/validation/labeled-cut-2-A/07/160004000035.jpg'),\n",
       " WindowsPath('D:/data/SJJ/sjj_all_190624/validation/labeled-cut-2-A/08/160004000007.jpg'),\n",
       " WindowsPath('D:/data/SJJ/sjj_all_190624/validation/labeled-cut-2-A/09/160004000023.jpg'),\n",
       " WindowsPath('D:/data/SJJ/sjj_all_190624/validation/labeled-cut-2-A/10/160004000001.jpg'),\n",
       " WindowsPath('D:/data/SJJ/sjj_all_190624/validation/labeled-cut-2-A/11/160004000004.jpg'),\n",
       " WindowsPath('D:/data/SJJ/sjj_all_190624/validation/labeled-cut-2-A/12/160004000069.jpg'),\n",
       " WindowsPath('D:/data/SJJ/sjj_all_190624/validation/labeled-cut-2-A/14/160005000092.jpg'),\n",
       " WindowsPath('D:/data/SJJ/sjj_all_190624/validation/labeled-cut-2-A/15/160006000205.jpg')]"
      ]
     },
     "execution_count": 4,
     "metadata": {},
     "output_type": "execute_result"
    }
   ],
   "source": [
    "sample_paths = []\n",
    "for label_dir in data_dir.iterdir():\n",
    "    try:\n",
    "        path = next(iter(label_dir.glob('*.jpg')))\n",
    "        sample_paths.append(path)\n",
    "    except StopIteration:\n",
    "        pass\n",
    "sample_paths"
   ]
  },
  {
   "cell_type": "code",
   "execution_count": 5,
   "metadata": {},
   "outputs": [],
   "source": [
    "guesses, confs = vision_models.recognize(sample_paths, batch_size=4)"
   ]
  },
  {
   "cell_type": "code",
   "execution_count": 6,
   "metadata": {},
   "outputs": [
    {
     "data": {
      "text/plain": [
       "[0, 1, 2, 3, 4, 5, 6, 7, 8, 9, 10, 11, 12, 14, 15]"
      ]
     },
     "execution_count": 6,
     "metadata": {},
     "output_type": "execute_result"
    }
   ],
   "source": [
    "guesses"
   ]
  },
  {
   "cell_type": "code",
   "execution_count": 7,
   "metadata": {},
   "outputs": [
    {
     "data": {
      "text/plain": [
       "[0.9999301433563232,\n",
       " 0.9997386336326599,\n",
       " 0.9999608993530273,\n",
       " 0.9999785423278809,\n",
       " 0.999969482421875,\n",
       " 0.9998399019241333,\n",
       " 0.9999089241027832,\n",
       " 0.9999886751174927,\n",
       " 0.9999924898147583,\n",
       " 0.9999730587005615,\n",
       " 0.9233744144439697,\n",
       " 0.9999994039535522,\n",
       " 0.9895840287208557,\n",
       " 0.9999783039093018,\n",
       " 0.9975792765617371]"
      ]
     },
     "execution_count": 7,
     "metadata": {},
     "output_type": "execute_result"
    }
   ],
   "source": [
    "confs"
   ]
  },
  {
   "cell_type": "code",
   "execution_count": null,
   "metadata": {},
   "outputs": [],
   "source": []
  }
 ],
 "metadata": {
  "kernelspec": {
   "display_name": "Python 3",
   "language": "python",
   "name": "python3"
  },
  "language_info": {
   "codemirror_mode": {
    "name": "ipython",
    "version": 3
   },
   "file_extension": ".py",
   "mimetype": "text/x-python",
   "name": "python",
   "nbconvert_exporter": "python",
   "pygments_lexer": "ipython3",
   "version": "3.8.5"
  }
 },
 "nbformat": 4,
 "nbformat_minor": 4
}
